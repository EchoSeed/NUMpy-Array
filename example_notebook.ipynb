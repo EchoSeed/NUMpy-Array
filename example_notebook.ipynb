{
  "cells": [
    {
      "cell_type": "code",
      "execution_count": null,
      "metadata": {},
      "outputs": [],
      "source": [
        "# Example glyph log\n",
        "glyph_log = [\n",
        "    {\"id\": \"g1\", \"entropy\": 5.2, \"tags\": [\"origin\"], \"links\": [\"g2\"]},\n",
        "    {\"id\": \"g2\", \"entropy\": 3.4, \"tags\": [\"flex\"], \"links\": [\"g1\", \"g3\"]},\n",
        "    {\"id\": \"g3\", \"entropy\": 1.1, \"tags\": [\"ghost\"], \"links\": [\"g2\"]},\n",
        "]\n",
        "\n",
        "from lattice_patch import build_lattice_graph, render_lattice\n",
        "\n",
        "G = build_lattice_graph(glyph_log)\n",
        "render_lattice(G)"
      ]
    }
  ],
  "metadata": {
    "kernelspec": {
      "display_name": "Python 3",
      "language": "python",
      "name": "python3"
    },
    "language_info": {
      "name": "python"
    }
  },
  "nbformat": 4,
  "nbformat_minor": 5
}